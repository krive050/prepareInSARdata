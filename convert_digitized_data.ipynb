{
 "cells": [
  {
   "cell_type": "markdown",
   "id": "2883f625",
   "metadata": {},
   "source": [
    "# Convert Digitized Data\n",
    " I manual digitized fringes and now want to convert them in an okapy format"
   ]
  },
  {
   "cell_type": "code",
   "execution_count": 41,
   "id": "d9a5eb29",
   "metadata": {},
   "outputs": [],
   "source": [
    "import utm\n",
    "import matplotlib.pyplot as plt\n",
    "import numpy as np"
   ]
  },
  {
   "cell_type": "code",
   "execution_count": 42,
   "id": "4c8bf773",
   "metadata": {},
   "outputs": [],
   "source": [
    "# expect tab demlimiters for grdtrack output\n",
    "indata = np.loadtxt('/scratch/alor_2015_dsc_III/fringes/north_los_all.xy', delimiter='\\t')\n",
    "outdatafile = 'north.okinv'"
   ]
  },
  {
   "cell_type": "code",
   "execution_count": 43,
   "id": "0e5ff86b",
   "metadata": {},
   "outputs": [
    {
     "data": {
      "text/plain": [
       "array([[ 1.25048435e+02, -8.25371119e+00,  0.00000000e+00,\n",
       "         3.01170959e+01, -1.01995516e+02],\n",
       "       [ 1.25057864e+02, -8.25458160e+00,  0.00000000e+00,\n",
       "         3.00309478e+01, -1.01993426e+02],\n",
       "       [ 1.25084267e+02, -8.26372096e+00,  0.00000000e+00,\n",
       "         2.98045098e+01, -1.01987801e+02],\n",
       "       [ 1.25101095e+02, -8.27126456e+00,  0.00000000e+00,\n",
       "         2.96362962e+01, -1.01983997e+02],\n",
       "       [ 1.25109074e+02, -8.28461093e+00,  0.00000000e+00,\n",
       "         2.95300753e+01, -1.01982160e+02],\n",
       "       [ 1.25132285e+02, -8.28170955e+00,  0.00000000e+00,\n",
       "         2.93342381e+01, -1.01976935e+02],\n",
       "       [ 1.25049740e+02, -8.24877884e+00, -1.18000000e-01,\n",
       "         3.01216440e+01, -1.01995248e+02],\n",
       "       [ 1.25056994e+02, -8.24964925e+00, -1.18000000e-01,\n",
       "         3.00501102e+01, -1.01993602e+02],\n",
       "       [ 1.25070775e+02, -8.25226050e+00, -1.18000000e-01,\n",
       "         2.99321792e+01, -1.01990571e+02],\n",
       "       [ 1.25083832e+02, -8.25109994e+00, -1.18000000e-01,\n",
       "         2.98396758e+01, -1.01987876e+02],\n",
       "       [ 1.25109364e+02, -8.25994917e+00, -1.18000000e-01,\n",
       "         2.95931830e+01, -1.01982170e+02],\n",
       "       [ 1.25122855e+02, -8.24500704e+00, -1.18000000e-01,\n",
       "         2.94986413e+01, -1.01979029e+02],\n",
       "       [ 1.25122565e+02, -8.22803394e+00, -1.18000000e-01,\n",
       "         2.95184726e+01, -1.01978786e+02],\n",
       "       [ 1.25110089e+02, -8.21033550e+00, -1.18000000e-01,\n",
       "         2.96631971e+01, -1.01981619e+02],\n",
       "       [ 1.25095727e+02, -8.20453273e+00, -1.18000000e-01,\n",
       "         2.97896461e+01, -1.01984687e+02],\n",
       "       [ 1.25087313e+02, -8.19350747e+00, -1.18000000e-01,\n",
       "         2.98788186e+01, -1.01986453e+02],\n",
       "       [ 1.25070485e+02, -8.18016111e+00, -1.18000000e-01,\n",
       "         3.00496325e+01, -1.01990078e+02],\n",
       "       [ 1.25048725e+02, -8.17871041e+00, -1.18000000e-01,\n",
       "         3.02410573e+01, -1.01994826e+02],\n",
       "       [ 1.25034218e+02, -8.17682451e+00, -1.18000000e-01,\n",
       "         3.03696662e+01, -1.01997989e+02],\n",
       "       [ 1.25023193e+02, -8.17580903e+00, -1.18000000e-01,\n",
       "         3.04612554e+01, -1.02000341e+02],\n",
       "       [ 1.24992583e+02, -8.18204701e+00, -1.18000000e-01,\n",
       "         3.07047068e+01, -1.02006968e+02]])"
      ]
     },
     "execution_count": 43,
     "metadata": {},
     "output_type": "execute_result"
    }
   ],
   "source": [
    "#check if loaded in right \n",
    "indata"
   ]
  },
  {
   "cell_type": "code",
   "execution_count": 44,
   "id": "ad5dc4b2",
   "metadata": {},
   "outputs": [],
   "source": [
    "#calculating los components from incidence and azimuth \n",
    "\n",
    "# taken from the okapy notebook for the los components \n",
    "# theta is incidence\n",
    "# phi is azimuth --both in degrees \n",
    "#p_vec = [sin(radians(phi))*sin(radians(theta)), -cos(radians(phi))*sin(radians(theta)), -cos(radians(theta))];\n",
    "\n",
    "theta = indata[:,3]\n",
    "phi = indata[:,4]\n",
    "losx = np.sin(np.radians(phi))*np.sin(np.radians(theta))\n",
    "losy = -np.cos(np.radians(phi))*np.sin(np.radians(theta))\n",
    "losz = -np.cos(np.radians(theta))\n"
   ]
  },
  {
   "cell_type": "code",
   "execution_count": 45,
   "id": "d592622f",
   "metadata": {},
   "outputs": [],
   "source": [
    "# and finally let's convert our lat-long coordinates to UTM km\n",
    "# copied from the downsample notebook \n",
    "\n",
    "xym = utm.from_latlon(indata[:,1],indata[:,0]) \n",
    "xkm = xym[0]/1000\n",
    "ykm = xym[1]/1000"
   ]
  },
  {
   "cell_type": "code",
   "execution_count": 46,
   "id": "a35db6e5",
   "metadata": {},
   "outputs": [
    {
     "data": {
      "text/plain": [
       "array([1., 1., 1., 1., 1., 1., 1., 1., 1., 1., 1., 1., 1., 1., 1., 1., 1.,\n",
       "       1., 1., 1., 1.])"
      ]
     },
     "execution_count": 46,
     "metadata": {},
     "output_type": "execute_result"
    }
   ],
   "source": [
    "# double check if the unit vectors add up to 1\n",
    "losx**2 + losy**2 + losz**2"
   ]
  },
  {
   "cell_type": "code",
   "execution_count": 47,
   "id": "32330321",
   "metadata": {},
   "outputs": [],
   "source": [
    "# to make every data point have a number in okinv format \n",
    "dataptid=np.arange(1,losx.size+1)"
   ]
  },
  {
   "cell_type": "code",
   "execution_count": 48,
   "id": "70e017d1",
   "metadata": {},
   "outputs": [],
   "source": [
    "# i copied this from downsample notebook to save the file in .okinv\n",
    "okinv_data=np.column_stack((xkm,ykm,indata[:,2],losx,losy,losz,dataptid))\n",
    "np.savetxt(outdatafile,okinv_data,fmt='%f %f %f %f %f %f %d')"
   ]
  },
  {
   "cell_type": "code",
   "execution_count": null,
   "id": "368f0c96",
   "metadata": {},
   "outputs": [],
   "source": []
  }
 ],
 "metadata": {
  "kernelspec": {
   "display_name": "Python 3",
   "language": "python",
   "name": "python3"
  },
  "language_info": {
   "codemirror_mode": {
    "name": "ipython",
    "version": 3
   },
   "file_extension": ".py",
   "mimetype": "text/x-python",
   "name": "python",
   "nbconvert_exporter": "python",
   "pygments_lexer": "ipython3",
   "version": "3.8.6"
  }
 },
 "nbformat": 4,
 "nbformat_minor": 5
}
